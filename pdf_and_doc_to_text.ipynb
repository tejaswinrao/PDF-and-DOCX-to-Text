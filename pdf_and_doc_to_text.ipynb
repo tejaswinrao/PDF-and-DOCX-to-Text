{
 "cells": [
  {
   "cell_type": "code",
   "execution_count": 4,
   "metadata": {},
   "outputs": [],
   "source": [
    "#Convert .docx files and .pdf files to .text files\n",
    "import pickle\n",
    "import PyPDF2  \n",
    "import docx2txt\n",
    "\n",
    "filename = 'sample.pdf'\n",
    "fileExtension=filename.split(\".\")[-1]\n",
    "name = filename.split('.')[0]\n",
    "\n",
    "if fileExtension ==\"docx\":\n",
    "    content = docx2txt.process(filename)\n",
    "    with open(name + \".txt\", \"w\") as text_file:\n",
    "        print(content, file=text_file)\n",
    "    \n",
    "if fileExtension =='pdf':\n",
    "    pdfFileObj = open(filename, 'rb')  \n",
    "    pdfReader = PyPDF2.PdfFileReader(pdfFileObj)\n",
    "    pageObj = pdfReader.getPage(0) \n",
    "    a = pageObj.extractText()\n",
    "    with open(name + '.txt','wb') as f:\n",
    "        pickle.dump(a,f)\n",
    "    "
   ]
  }
 ],
 "metadata": {
  "kernelspec": {
   "display_name": "Python 3",
   "language": "python",
   "name": "python3"
  },
  "language_info": {
   "codemirror_mode": {
    "name": "ipython",
    "version": 3
   },
   "file_extension": ".py",
   "mimetype": "text/x-python",
   "name": "python",
   "nbconvert_exporter": "python",
   "pygments_lexer": "ipython3",
   "version": "3.7.3"
  }
 },
 "nbformat": 4,
 "nbformat_minor": 2
}
